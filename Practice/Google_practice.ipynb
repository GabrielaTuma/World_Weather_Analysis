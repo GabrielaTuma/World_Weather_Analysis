{
 "cells": [
  {
   "cell_type": "code",
   "execution_count": 6,
   "id": "a1604761",
   "metadata": {},
   "outputs": [],
   "source": [
    "import requests\n",
    "import json\n",
    "\n",
    "#g_key=\"oi\"\n",
    "\n",
    "target_city = \"Boise, Idaho\"\n",
    "\n",
    "target_url = ('https://maps.googleapis.com/maps/api/geocode/json?'\n",
    "             'address={0}&key=oi').format(target_city)"
   ]
  },
  {
   "cell_type": "code",
   "execution_count": 7,
   "id": "ecb98c56",
   "metadata": {},
   "outputs": [
    {
     "data": {
      "text/plain": [
       "{'results': [{'address_components': [{'long_name': 'Boise',\n",
       "     'short_name': 'Boise',\n",
       "     'types': ['locality', 'political']},\n",
       "    {'long_name': 'Ada County',\n",
       "     'short_name': 'Ada County',\n",
       "     'types': ['administrative_area_level_2', 'political']},\n",
       "    {'long_name': 'Idaho',\n",
       "     'short_name': 'ID',\n",
       "     'types': ['administrative_area_level_1', 'political']},\n",
       "    {'long_name': 'United States',\n",
       "     'short_name': 'US',\n",
       "     'types': ['country', 'political']}],\n",
       "   'formatted_address': 'Boise, ID, USA',\n",
       "   'geometry': {'bounds': {'northeast': {'lat': 43.6898951,\n",
       "      'lng': -116.1019091},\n",
       "     'southwest': {'lat': 43.511717, 'lng': -116.3658869}},\n",
       "    'location': {'lat': 43.6150186, 'lng': -116.2023137},\n",
       "    'location_type': 'APPROXIMATE',\n",
       "    'viewport': {'northeast': {'lat': 43.6898951, 'lng': -116.1019091},\n",
       "     'southwest': {'lat': 43.511717, 'lng': -116.3658869}}},\n",
       "   'place_id': 'ChIJnbRH6XLxrlQRm51nNpuYW5o',\n",
       "   'types': ['locality', 'political']}],\n",
       " 'status': 'OK'}"
      ]
     },
     "execution_count": 7,
     "metadata": {},
     "output_type": "execute_result"
    }
   ],
   "source": [
    "geo_data = requests.get(target_url).json()\n",
    "geo_data"
   ]
  },
  {
   "cell_type": "code",
   "execution_count": 10,
   "id": "7a2c506c",
   "metadata": {},
   "outputs": [
    {
     "name": "stdout",
     "output_type": "stream",
     "text": [
      "{\n",
      "    \"results\": [\n",
      "        {\n",
      "            \"address_components\": [\n",
      "                {\n",
      "                    \"long_name\": \"Boise\",\n",
      "                    \"short_name\": \"Boise\",\n",
      "                    \"types\": [\n",
      "                        \"locality\",\n",
      "                        \"political\"\n",
      "                    ]\n",
      "                },\n",
      "                {\n",
      "                    \"long_name\": \"Ada County\",\n",
      "                    \"short_name\": \"Ada County\",\n",
      "                    \"types\": [\n",
      "                        \"administrative_area_level_2\",\n",
      "                        \"political\"\n",
      "                    ]\n",
      "                },\n",
      "                {\n",
      "                    \"long_name\": \"Idaho\",\n",
      "                    \"short_name\": \"ID\",\n",
      "                    \"types\": [\n",
      "                        \"administrative_area_level_1\",\n",
      "                        \"political\"\n",
      "                    ]\n",
      "                },\n",
      "                {\n",
      "                    \"long_name\": \"United States\",\n",
      "                    \"short_name\": \"US\",\n",
      "                    \"types\": [\n",
      "                        \"country\",\n",
      "                        \"political\"\n",
      "                    ]\n",
      "                }\n",
      "            ],\n",
      "            \"formatted_address\": \"Boise, ID, USA\",\n",
      "            \"geometry\": {\n",
      "                \"bounds\": {\n",
      "                    \"northeast\": {\n",
      "                        \"lat\": 43.6898951,\n",
      "                        \"lng\": -116.1019091\n",
      "                    },\n",
      "                    \"southwest\": {\n",
      "                        \"lat\": 43.511717,\n",
      "                        \"lng\": -116.3658869\n",
      "                    }\n",
      "                },\n",
      "                \"location\": {\n",
      "                    \"lat\": 43.6150186,\n",
      "                    \"lng\": -116.2023137\n",
      "                },\n",
      "                \"location_type\": \"APPROXIMATE\",\n",
      "                \"viewport\": {\n",
      "                    \"northeast\": {\n",
      "                        \"lat\": 43.6898951,\n",
      "                        \"lng\": -116.1019091\n",
      "                    },\n",
      "                    \"southwest\": {\n",
      "                        \"lat\": 43.511717,\n",
      "                        \"lng\": -116.3658869\n",
      "                    }\n",
      "                }\n",
      "            },\n",
      "            \"place_id\": \"ChIJnbRH6XLxrlQRm51nNpuYW5o\",\n",
      "            \"types\": [\n",
      "                \"locality\",\n",
      "                \"political\"\n",
      "            ]\n",
      "        }\n",
      "    ],\n",
      "    \"status\": \"OK\"\n",
      "}\n"
     ]
    }
   ],
   "source": [
    "# PRETTY PRINT \n",
    "print(json.dumps(geo_data, indent=4,sort_keys=True))"
   ]
  },
  {
   "cell_type": "code",
   "execution_count": 11,
   "id": "311b7699",
   "metadata": {},
   "outputs": [
    {
     "data": {
      "text/plain": [
       "43.6150186"
      ]
     },
     "execution_count": 11,
     "metadata": {},
     "output_type": "execute_result"
    }
   ],
   "source": [
    "lat = geo_data['results'][0]['geometry']['location']['lat']\n",
    "\n",
    "lat"
   ]
  },
  {
   "cell_type": "code",
   "execution_count": null,
   "id": "a6e63a1a",
   "metadata": {},
   "outputs": [],
   "source": []
  }
 ],
 "metadata": {
  "kernelspec": {
   "display_name": "PythonData",
   "language": "python",
   "name": "pythondata"
  },
  "language_info": {
   "codemirror_mode": {
    "name": "ipython",
    "version": 3
   },
   "file_extension": ".py",
   "mimetype": "text/x-python",
   "name": "python",
   "nbconvert_exporter": "python",
   "pygments_lexer": "ipython3",
   "version": "3.7.10"
  }
 },
 "nbformat": 4,
 "nbformat_minor": 5
}
