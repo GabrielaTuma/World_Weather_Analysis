{
 "cells": [
  {
   "cell_type": "code",
   "execution_count": 13,
   "id": "315281bc",
   "metadata": {},
   "outputs": [],
   "source": [
    "import random\n",
    "import numpy as np\n",
    "\n",
    "import timeit"
   ]
  },
  {
   "cell_type": "code",
   "execution_count": 14,
   "id": "ad91096d",
   "metadata": {},
   "outputs": [
    {
     "data": {
      "text/plain": [
       "-55"
      ]
     },
     "execution_count": 14,
     "metadata": {},
     "output_type": "execute_result"
    }
   ],
   "source": [
    "random.randint(-90,90)"
   ]
  },
  {
   "cell_type": "code",
   "execution_count": 15,
   "id": "4383d10b",
   "metadata": {},
   "outputs": [
    {
     "data": {
      "text/plain": [
       "0.19736353576609955"
      ]
     },
     "execution_count": 15,
     "metadata": {},
     "output_type": "execute_result"
    }
   ],
   "source": [
    "random.random()"
   ]
  },
  {
   "cell_type": "code",
   "execution_count": 16,
   "id": "340a2497",
   "metadata": {},
   "outputs": [],
   "source": [
    "x = 1\n",
    "latitudes = []\n",
    "while x < 11:\n",
    "    random_lat = random.randint(-90, 89) + random.random()\n",
    "    latitudes.append(random_lat)\n",
    "    x += 1"
   ]
  },
  {
   "cell_type": "code",
   "execution_count": 17,
   "id": "e3690ab2",
   "metadata": {},
   "outputs": [
    {
     "data": {
      "text/plain": [
       "-65.29874694650219"
      ]
     },
     "execution_count": 17,
     "metadata": {},
     "output_type": "execute_result"
    }
   ],
   "source": [
    "np.random.uniform(low=-90, high=90)"
   ]
  },
  {
   "cell_type": "code",
   "execution_count": 18,
   "id": "5d5968f3",
   "metadata": {},
   "outputs": [
    {
     "data": {
      "text/plain": [
       "array([-14.12158728, -86.56567687, -63.39982381,  15.58816632,\n",
       "       -24.31333785, -34.36973453,  25.67012786,   3.22776272,\n",
       "        76.07600422,  55.06088386,  22.5268097 ,  77.7500641 ,\n",
       "        -3.81226447, -52.13529819, -43.28328763,  21.81558149,\n",
       "       -30.3756569 , -59.60040719, -88.49465665,  52.00368165,\n",
       "         6.28839499, -62.37076291, -10.89570115,   7.98823581,\n",
       "        -2.8479465 ,  -1.40143444, -70.24393299,  26.94699055,\n",
       "        86.99537089, -66.99171107, -55.41771357,  -5.9684799 ,\n",
       "        83.82073826,  -5.66349725,  87.96779032, -71.80826454,\n",
       "        45.30898559,  87.0550432 ,  -3.6689373 , -36.4940178 ,\n",
       "        23.07853945,  67.88846821, -38.15532248, -13.40236963,\n",
       "         5.58046667,  70.82726257,  18.52003358, -67.97613199,\n",
       "        -2.71572833, -17.02286188])"
      ]
     },
     "execution_count": 18,
     "metadata": {},
     "output_type": "execute_result"
    }
   ],
   "source": [
    "np.random.uniform(-90.000, 90.000, size=50)"
   ]
  },
  {
   "cell_type": "code",
   "execution_count": 19,
   "id": "7226d37e",
   "metadata": {},
   "outputs": [
    {
     "name": "stdout",
     "output_type": "stream",
     "text": [
      "20.3 µs ± 1.2 µs per loop (mean ± std. dev. of 7 runs, 10000 loops each)\n"
     ]
    }
   ],
   "source": [
    "%timeit np.random.uniform(-90.000, 90.000, size=1500)"
   ]
  },
  {
   "cell_type": "code",
   "execution_count": 20,
   "id": "0b6160a2",
   "metadata": {},
   "outputs": [
    {
     "name": "stdout",
     "output_type": "stream",
     "text": [
      "2.86 ms ± 69.7 µs per loop (mean ± std. dev. of 7 runs, 100 loops each)\n"
     ]
    }
   ],
   "source": [
    "def latitudes(size):\n",
    "    latitudes = []\n",
    "    x = 0\n",
    "    while x < (size):\n",
    "        random_lat = random.randint(-90, 90) + random.random()\n",
    "        latitudes.append(random_lat)\n",
    "        x += 1\n",
    "    return latitudes\n",
    "# Call the function with 1500.\n",
    "%timeit latitudes(1500)"
   ]
  },
  {
   "cell_type": "code",
   "execution_count": null,
   "id": "3449e5ae",
   "metadata": {},
   "outputs": [],
   "source": []
  }
 ],
 "metadata": {
  "kernelspec": {
   "display_name": "PythonData",
   "language": "python",
   "name": "pythondata"
  },
  "language_info": {
   "codemirror_mode": {
    "name": "ipython",
    "version": 3
   },
   "file_extension": ".py",
   "mimetype": "text/x-python",
   "name": "python",
   "nbconvert_exporter": "python",
   "pygments_lexer": "ipython3",
   "version": "3.7.10"
  }
 },
 "nbformat": 4,
 "nbformat_minor": 5
}
